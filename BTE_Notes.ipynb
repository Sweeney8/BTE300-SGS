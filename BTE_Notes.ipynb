{
  "nbformat": 4,
  "nbformat_minor": 0,
  "metadata": {
    "colab": {
      "provenance": [],
      "include_colab_link": true
    },
    "kernelspec": {
      "name": "python3",
      "display_name": "Python 3"
    },
    "language_info": {
      "name": "python"
    }
  },
  "cells": [
    {
      "cell_type": "markdown",
      "metadata": {
        "id": "view-in-github",
        "colab_type": "text"
      },
      "source": [
        "<a href=\"https://colab.research.google.com/github/Sweeney8/BTE320-SGS/blob/main/BTE_Notes.ipynb\" target=\"_parent\"><img src=\"https://colab.research.google.com/assets/colab-badge.svg\" alt=\"Open In Colab\"/></a>"
      ]
    },
    {
      "cell_type": "markdown",
      "source": [
        "2/5/23\n"
      ],
      "metadata": {
        "id": "B4bKOb47C8Ov"
      }
    },
    {
      "cell_type": "markdown",
      "source": [],
      "metadata": {
        "id": "CTs1fy6b3HYL"
      }
    },
    {
      "cell_type": "markdown",
      "source": [
        "Iterations\n"
      ],
      "metadata": {
        "id": "OTt_SPn4xuHc"
      }
    },
    {
      "cell_type": "code",
      "execution_count": null,
      "metadata": {
        "colab": {
          "base_uri": "https://localhost:8080/"
        },
        "id": "zn6MFmggwVAz",
        "outputId": "f72760bc-07d3-4482-8c03-5a9c0ec8a0ab"
      },
      "outputs": [
        {
          "output_type": "stream",
          "name": "stdout",
          "text": [
            "Collecting ColabTurtlePlus\n",
            "  Downloading ColabTurtlePlus-2.0.1-py3-none-any.whl (31 kB)\n",
            "Installing collected packages: ColabTurtlePlus\n",
            "Successfully installed ColabTurtlePlus-2.0.1\n"
          ]
        }
      ],
      "source": [
        "!pip install ColabTurtlePlus\n"
      ]
    },
    {
      "cell_type": "code",
      "source": [
        "from ColabTurtlePlus.Turtle import *\n",
        "\n",
        "clearscreen()\n",
        "\n",
        "color('black','green')\n",
        "begin_fill()\n",
        "jumpto(0,0)\n",
        "\n",
        "for var in range(4):\n",
        "  forward(100)\n",
        "  left(90)\n",
        "\n",
        "\n",
        "end_fill()"
      ],
      "metadata": {
        "colab": {
          "base_uri": "https://localhost:8080/",
          "height": 621
        },
        "id": "H40bIUjSw7QP",
        "outputId": "b2f4361f-65b3-467c-e196-39292ff03072"
      },
      "execution_count": null,
      "outputs": [
        {
          "output_type": "display_data",
          "data": {
            "text/plain": [
              "<IPython.core.display.HTML object>"
            ],
            "text/html": [
              "\n",
              "      <svg width=\"800\" height=\"600\">  \n",
              "        <rect width=\"100%\" height=\"100%\" style=\"fill:white;stroke:;stroke-width:1\"/>\n",
              "        \n",
              "        \n",
              "        <path fill-rule=\"evenodd\" fill-opacity=\"1\" d=\"M 400.0 300.0  L 400.0 300.0  L 500.0 300.0  L 500.0 200.0  L 400.0 200.0  L 400.0 300.0 \" stroke-linecap=\"round\" style=\"stroke:black;stroke-width:1\" fill=\"green\" />\n",
              "        \n",
              "        \n",
              "        <g id=\"classic\" visibility=\"visible\" transform=\"rotate(-90,400.0,300.0) translate(400.0, 300.0)\">\n",
              "<polygon points=\"-5,-4.5 0,-2.5 5,-4.5 0,4.5\" transform=\"skewX(0) scale(1,1)\" style=\"stroke:black;fill:green;stroke-width:1\" />\n",
              "</g>\n",
              "      </svg>\n",
              "    "
            ]
          },
          "metadata": {}
        }
      ]
    },
    {
      "cell_type": "markdown",
      "source": [
        "### For Loop\n",
        "\n",
        "keywords: **for** and **in**\n",
        "\n",
        "**for** variable-name **in** sequence:\n",
        "\n",
        "(indent) Statement(s)\n",
        "\n",
        "\n",
        "\n",
        "range(start, end, step) --> creates a sequence of numbers (ints only)\n",
        "\n",
        "**(start,end,step) default values. Start= 0, Step= 1**\n",
        "\n",
        "Last value in end is excluded! for a 12 month calander, the end value is 13\n",
        "\n",
        "**In decreasing ranges** the last value has to be strictly greater than the end\n",
        "\n",
        "for loops are used when the number of durations is **known**"
      ],
      "metadata": {
        "id": "BOTZjE_pzA0W"
      }
    },
    {
      "cell_type": "code",
      "source": [
        "for i in range(1,13,1):\n",
        "  print(i)"
      ],
      "metadata": {
        "colab": {
          "base_uri": "https://localhost:8080/"
        },
        "id": "hvrgsCSv10hL",
        "outputId": "20037acb-37c4-4379-89c7-c7f8b7b072b9"
      },
      "execution_count": null,
      "outputs": [
        {
          "output_type": "stream",
          "name": "stdout",
          "text": [
            "1\n",
            "2\n",
            "3\n",
            "4\n",
            "5\n",
            "6\n",
            "7\n",
            "8\n",
            "9\n",
            "10\n",
            "11\n",
            "12\n"
          ]
        }
      ]
    },
    {
      "cell_type": "code",
      "source": [
        "for i in range(10,5,-1):\n",
        "  print(i)"
      ],
      "metadata": {
        "colab": {
          "base_uri": "https://localhost:8080/"
        },
        "id": "lczN-KK435vg",
        "outputId": "4ae9eb70-1115-4607-8e3d-61466b7fe872"
      },
      "execution_count": null,
      "outputs": [
        {
          "output_type": "stream",
          "name": "stdout",
          "text": [
            "10\n",
            "9\n",
            "8\n",
            "7\n",
            "6\n"
          ]
        }
      ]
    },
    {
      "cell_type": "code",
      "source": [],
      "metadata": {
        "id": "AawKoYET4suX"
      },
      "execution_count": null,
      "outputs": []
    },
    {
      "cell_type": "markdown",
      "source": [
        "### While Loop\n",
        "\n",
        "While conidition:\n",
        "\n",
        "(indent) Statement(s)\n",
        "\n",
        "**This condition is repeatedly evaluated\n",
        "as long as this condition is true the loop is active\n",
        "\n",
        "**when this conditions becomes false the loop is terminated\n",
        "\n"
      ],
      "metadata": {
        "id": "d36oacS56kUx"
      }
    },
    {
      "cell_type": "markdown",
      "source": [
        "2/7/23\n"
      ],
      "metadata": {
        "id": "0mrO6V80C6Wq"
      }
    },
    {
      "cell_type": "code",
      "source": [
        "c = 5\n",
        "fee = c+p*2.5\n",
        "for p in range(1,9):\n",
        "  fee = c+p*2.5\n",
        "  if 10 < fee < 20:\n",
        "    print(p, fee)\n",
        "  elif fee <= 10:\n",
        "    print(p, 10)\n",
        "  else:\n",
        "    print(p, 20.0)"
      ],
      "metadata": {
        "colab": {
          "base_uri": "https://localhost:8080/"
        },
        "id": "ggWTrTHeD2xz",
        "outputId": "114a1827-9f6f-460f-a9a0-94ede342de3a"
      },
      "execution_count": null,
      "outputs": [
        {
          "output_type": "stream",
          "name": "stdout",
          "text": [
            "1 10\n",
            "2 10\n",
            "3 12.5\n",
            "4 15.0\n",
            "5 17.5\n",
            "6 20.0\n",
            "7 20.0\n",
            "8 20.0\n"
          ]
        }
      ]
    },
    {
      "cell_type": "markdown",
      "source": [
        "while loop continued\n",
        "\n",
        "(1) Initial Statement\n",
        "\n",
        "(2) while condition, statement(s) \"while the boolean expression holds (true), then run the block of code that follows\"\n",
        "\n",
        "(3) update\n",
        "\n",
        "\n",
        "\n"
      ],
      "metadata": {
        "id": "Rf_Ah2rbWjiD"
      }
    },
    {
      "cell_type": "code",
      "source": [
        "while boolean expression:\n",
        "  block of code"
      ],
      "metadata": {
        "id": "0UUpNpucW7d2"
      },
      "execution_count": null,
      "outputs": []
    },
    {
      "cell_type": "code",
      "source": [
        "i=1\n",
        "n=5\n",
        "while i<n:\n",
        "  print(i)\n",
        "  i=i+1"
      ],
      "metadata": {
        "colab": {
          "base_uri": "https://localhost:8080/"
        },
        "id": "_YczltGTYKvb",
        "outputId": "0e2deca3-99a0-41f5-f888-354f318831d7"
      },
      "execution_count": null,
      "outputs": [
        {
          "output_type": "stream",
          "name": "stdout",
          "text": [
            "1\n",
            "2\n",
            "3\n",
            "4\n"
          ]
        }
      ]
    },
    {
      "cell_type": "code",
      "source": [
        "import random\n",
        "user_input=input(\"do you want to play the game?,(Yes,No)\")\n",
        "while user_input==\"yes\":\n",
        "  user_input = input('rock, paper, scissors; ')\n",
        "  pc_choice = random.choice(['rock','paper','scissors'])\n",
        "\n",
        "  if user_input == pc_choice:\n",
        "    print(f'computer choice; {pc_choice} --> Tie Game')\n",
        "\n",
        "  elif user_input == 'paper' and pc_choice == 'rock' or user_input == 'scissors' and pc_choice == 'paper' or user_input == 'rock' and pc_choice == 'scissors':\n",
        "    print(f'computer choice; {pc_choice} --> You Win!')\n",
        "\n",
        "  else:\n",
        "    print(f'computer choice; {pc_choice} --> You Lose')\n",
        "\n",
        "  user_input=input(\"do you want to play the game?,(Yes,No)\")\n",
        "\n"
      ],
      "metadata": {
        "colab": {
          "base_uri": "https://localhost:8080/"
        },
        "id": "19s1Jurfa02P",
        "outputId": "b4ab175d-8efc-49f8-818e-d711cd2ebea3"
      },
      "execution_count": null,
      "outputs": [
        {
          "name": "stdout",
          "output_type": "stream",
          "text": [
            "do you want to play the game?,(Yes,No)no\n"
          ]
        }
      ]
    },
    {
      "cell_type": "code",
      "source": [
        "down=100000\n",
        "n_months=0\n",
        "deposit=10000\n",
        "amount=5000\n",
        "while deposit<down:\n",
        "  deposit=deposit+amount\n",
        "  n_months=n_months+1\n",
        "  print(n_months)\n"
      ],
      "metadata": {
        "colab": {
          "base_uri": "https://localhost:8080/"
        },
        "id": "fxvt9xu6efKB",
        "outputId": "381c8d11-2452-46b8-eca2-898ec59e3a31"
      },
      "execution_count": null,
      "outputs": [
        {
          "output_type": "stream",
          "name": "stdout",
          "text": [
            "1\n",
            "2\n",
            "3\n",
            "4\n",
            "5\n",
            "6\n",
            "7\n",
            "8\n",
            "9\n",
            "10\n",
            "11\n",
            "12\n",
            "13\n",
            "14\n",
            "15\n",
            "16\n",
            "17\n",
            "18\n"
          ]
        }
      ]
    },
    {
      "cell_type": "code",
      "source": [
        "var=10\n",
        "while var>0:\n",
        "  var = var-1\n",
        "  if var ==5:\n",
        "    continue\n",
        "  print('current variable value:', var)\n",
        "print(\"good bye!\")"
      ],
      "metadata": {
        "colab": {
          "base_uri": "https://localhost:8080/"
        },
        "id": "v2Z0rpqEhcYh",
        "outputId": "4821b7c2-2dc0-4c68-848f-6133c292b5eb"
      },
      "execution_count": null,
      "outputs": [
        {
          "output_type": "stream",
          "name": "stdout",
          "text": [
            "current variable value: 9\n",
            "current variable value: 8\n",
            "current variable value: 7\n",
            "current variable value: 6\n",
            "current variable value: 4\n",
            "current variable value: 3\n",
            "current variable value: 2\n",
            "current variable value: 1\n",
            "current variable value: 0\n",
            "good bye!\n"
          ]
        }
      ]
    },
    {
      "cell_type": "code",
      "source": [
        "var=10\n",
        "while var>0:\n",
        "  var = var-1\n",
        "  if var ==5:\n",
        "    break\n",
        "  print('current variable value:', var)\n",
        "print(\"good bye!\")"
      ],
      "metadata": {
        "colab": {
          "base_uri": "https://localhost:8080/"
        },
        "id": "7IdvWgUch5t7",
        "outputId": "8ffdb146-098b-4baf-96d6-9c58d663c609"
      },
      "execution_count": null,
      "outputs": [
        {
          "output_type": "stream",
          "name": "stdout",
          "text": [
            "current variable value: 9\n",
            "current variable value: 8\n",
            "current variable value: 7\n",
            "current variable value: 6\n",
            "good bye!\n"
          ]
        }
      ]
    },
    {
      "cell_type": "markdown",
      "source": [
        "Feb 12 game\n",
        "\n",
        "design a calculator\n",
        "\n"
      ],
      "metadata": {
        "id": "LTti1zMBziNQ"
      }
    },
    {
      "cell_type": "code",
      "source": [
        "while 'operator' == 'operator':\n",
        "  number_1 = float(input('select the first number'))\n",
        "  number_2 = float(input('select the second number'))\n",
        "  operator = (input('select operator'))\n",
        "\n",
        "  if operator == '+':\n",
        "    print(number_1 + number_2)\n",
        "  elif operator == '-':\n",
        "    print(number_1 - number_2)\n",
        "  elif operator == '*':\n",
        "    print(number_1 * number_2)\n",
        "  elif operator == '/':\n",
        "    print(number_1 / number_2)\n",
        "  elif operator == '//':\n",
        "    print(number_1 // number_2)\n",
        "  elif operator == '%':\n",
        "    print(number_1 % number_2)\n",
        "  elif operator == '**':\n",
        "    print(number_1 ** number_2)\n",
        "  elif operator==\"break\":\n",
        "    break\n",
        "  else:\n",
        "    continue\n",
        "\n",
        "\n"
      ],
      "metadata": {
        "colab": {
          "base_uri": "https://localhost:8080/",
          "height": 471
        },
        "id": "W74eURYkzh_U",
        "outputId": "62e719fe-fa8a-405a-bdca-52aaae3a8d7c"
      },
      "execution_count": null,
      "outputs": [
        {
          "output_type": "stream",
          "name": "stdout",
          "text": [
            "select the first number2\n",
            "select the second number2\n",
            "select operator+\n",
            "4.0\n"
          ]
        },
        {
          "output_type": "error",
          "ename": "KeyboardInterrupt",
          "evalue": "Interrupted by user",
          "traceback": [
            "\u001b[0;31m---------------------------------------------------------------------------\u001b[0m",
            "\u001b[0;31mKeyboardInterrupt\u001b[0m                         Traceback (most recent call last)",
            "\u001b[0;32m<ipython-input-1-b9ddd3af8e25>\u001b[0m in \u001b[0;36m<cell line: 1>\u001b[0;34m()\u001b[0m\n\u001b[1;32m      1\u001b[0m \u001b[0;32mwhile\u001b[0m \u001b[0;34m'operator'\u001b[0m \u001b[0;34m==\u001b[0m \u001b[0;34m'operator'\u001b[0m\u001b[0;34m:\u001b[0m\u001b[0;34m\u001b[0m\u001b[0;34m\u001b[0m\u001b[0m\n\u001b[0;32m----> 2\u001b[0;31m   \u001b[0mnumber_1\u001b[0m \u001b[0;34m=\u001b[0m \u001b[0mfloat\u001b[0m\u001b[0;34m(\u001b[0m\u001b[0minput\u001b[0m\u001b[0;34m(\u001b[0m\u001b[0;34m'select the first number'\u001b[0m\u001b[0;34m)\u001b[0m\u001b[0;34m)\u001b[0m\u001b[0;34m\u001b[0m\u001b[0;34m\u001b[0m\u001b[0m\n\u001b[0m\u001b[1;32m      3\u001b[0m   \u001b[0mnumber_2\u001b[0m \u001b[0;34m=\u001b[0m \u001b[0mfloat\u001b[0m\u001b[0;34m(\u001b[0m\u001b[0minput\u001b[0m\u001b[0;34m(\u001b[0m\u001b[0;34m'select the second number'\u001b[0m\u001b[0;34m)\u001b[0m\u001b[0;34m)\u001b[0m\u001b[0;34m\u001b[0m\u001b[0;34m\u001b[0m\u001b[0m\n\u001b[1;32m      4\u001b[0m   \u001b[0moperator\u001b[0m \u001b[0;34m=\u001b[0m \u001b[0;34m(\u001b[0m\u001b[0minput\u001b[0m\u001b[0;34m(\u001b[0m\u001b[0;34m'select operator'\u001b[0m\u001b[0;34m)\u001b[0m\u001b[0;34m)\u001b[0m\u001b[0;34m\u001b[0m\u001b[0;34m\u001b[0m\u001b[0m\n\u001b[1;32m      5\u001b[0m \u001b[0;34m\u001b[0m\u001b[0m\n",
            "\u001b[0;32m/usr/local/lib/python3.10/dist-packages/ipykernel/kernelbase.py\u001b[0m in \u001b[0;36mraw_input\u001b[0;34m(self, prompt)\u001b[0m\n\u001b[1;32m    849\u001b[0m                 \u001b[0;34m\"raw_input was called, but this frontend does not support input requests.\"\u001b[0m\u001b[0;34m\u001b[0m\u001b[0;34m\u001b[0m\u001b[0m\n\u001b[1;32m    850\u001b[0m             )\n\u001b[0;32m--> 851\u001b[0;31m         return self._input_request(str(prompt),\n\u001b[0m\u001b[1;32m    852\u001b[0m             \u001b[0mself\u001b[0m\u001b[0;34m.\u001b[0m\u001b[0m_parent_ident\u001b[0m\u001b[0;34m,\u001b[0m\u001b[0;34m\u001b[0m\u001b[0;34m\u001b[0m\u001b[0m\n\u001b[1;32m    853\u001b[0m             \u001b[0mself\u001b[0m\u001b[0;34m.\u001b[0m\u001b[0m_parent_header\u001b[0m\u001b[0;34m,\u001b[0m\u001b[0;34m\u001b[0m\u001b[0;34m\u001b[0m\u001b[0m\n",
            "\u001b[0;32m/usr/local/lib/python3.10/dist-packages/ipykernel/kernelbase.py\u001b[0m in \u001b[0;36m_input_request\u001b[0;34m(self, prompt, ident, parent, password)\u001b[0m\n\u001b[1;32m    893\u001b[0m             \u001b[0;32mexcept\u001b[0m \u001b[0mKeyboardInterrupt\u001b[0m\u001b[0;34m:\u001b[0m\u001b[0;34m\u001b[0m\u001b[0;34m\u001b[0m\u001b[0m\n\u001b[1;32m    894\u001b[0m                 \u001b[0;31m# re-raise KeyboardInterrupt, to truncate traceback\u001b[0m\u001b[0;34m\u001b[0m\u001b[0;34m\u001b[0m\u001b[0m\n\u001b[0;32m--> 895\u001b[0;31m                 \u001b[0;32mraise\u001b[0m \u001b[0mKeyboardInterrupt\u001b[0m\u001b[0;34m(\u001b[0m\u001b[0;34m\"Interrupted by user\"\u001b[0m\u001b[0;34m)\u001b[0m \u001b[0;32mfrom\u001b[0m \u001b[0;32mNone\u001b[0m\u001b[0;34m\u001b[0m\u001b[0;34m\u001b[0m\u001b[0m\n\u001b[0m\u001b[1;32m    896\u001b[0m             \u001b[0;32mexcept\u001b[0m \u001b[0mException\u001b[0m \u001b[0;32mas\u001b[0m \u001b[0me\u001b[0m\u001b[0;34m:\u001b[0m\u001b[0;34m\u001b[0m\u001b[0;34m\u001b[0m\u001b[0m\n\u001b[1;32m    897\u001b[0m                 \u001b[0mself\u001b[0m\u001b[0;34m.\u001b[0m\u001b[0mlog\u001b[0m\u001b[0;34m.\u001b[0m\u001b[0mwarning\u001b[0m\u001b[0;34m(\u001b[0m\u001b[0;34m\"Invalid Message:\"\u001b[0m\u001b[0;34m,\u001b[0m \u001b[0mexc_info\u001b[0m\u001b[0;34m=\u001b[0m\u001b[0;32mTrue\u001b[0m\u001b[0;34m)\u001b[0m\u001b[0;34m\u001b[0m\u001b[0;34m\u001b[0m\u001b[0m\n",
            "\u001b[0;31mKeyboardInterrupt\u001b[0m: Interrupted by user"
          ]
        }
      ]
    },
    {
      "cell_type": "markdown",
      "source": [
        "whenever it says provide input, use function input\n",
        "\n",
        "\"==\" comparison\n",
        "\n",
        "\"=\" assignment\n",
        "\n",
        "\n",
        "quiz: conditions, break,"
      ],
      "metadata": {
        "id": "mwkj7p0AGhXM"
      }
    },
    {
      "cell_type": "code",
      "source": [
        "while True:\n",
        "  num1 = float(input('Enter first value:'))\n",
        "  num2 = float(input('Enter second value:'))\n",
        "  operator = (input('Enter the operator:'))\n",
        "\n",
        "  if operator == 'break':\n",
        "    print('Goodbye!')\n",
        "    break\n",
        "\n",
        "  if operator == \"+\":\n",
        "    answer = num1 + num2\n",
        "  elif operator == \"-\":\n",
        "    answer = num1 - num2\n",
        "  elif operator == \"*\":\n",
        "    answer = num1 * num2\n",
        "  elif operator == \"/\":\n",
        "    answer = num1 / num2\n",
        "  elif operator == \"//\":\n",
        "    answer = num1 / num2\n",
        "  elif operator == \"%\":\n",
        "    answer = num1 % num2\n",
        "  elif operator == \"**\":\n",
        "    answer = num1 ** num2\n",
        "  else:\n",
        "    print('invalid operator:', operator)\n",
        "    continue\n",
        "  print('Result:', answer)\n",
        "\n",
        "\n",
        "\n",
        "\n"
      ],
      "metadata": {
        "colab": {
          "base_uri": "https://localhost:8080/"
        },
        "id": "90XEs8vYGhhU",
        "outputId": "54cb282d-5dd4-4186-d3e9-591456b08fce"
      },
      "execution_count": null,
      "outputs": [
        {
          "output_type": "stream",
          "name": "stdout",
          "text": [
            "Enter first value:2\n",
            "Enter second value:2\n",
            "Enter the operator:break\n",
            "Goodbye!\n"
          ]
        }
      ]
    },
    {
      "cell_type": "markdown",
      "source": [
        "### Lecture 3\n",
        "\n",
        "## Strings\n",
        "\n",
        "main charactaristic of a string = quotation marks\n",
        "\n",
        "what can we take from strings?\n",
        "\n",
        "S = name of string\n",
        "\n",
        "(1) Number of characters within the quotes, function `len(S)`\n",
        "\n",
        "(2) Indexing, print a particular character, `S[position]`\n",
        "\n",
        "\n",
        "*   position is an index starting with 0 (ex. 5th character = 4)\n",
        "\n",
        "(3) Slicing, creating new string with part of original string, `S[start:end:step] `\n",
        "* (USE COLLON)\n",
        "* end is excluded\n",
        "\n",
        "\n",
        "remember! function range outputs a sequence of integers (start,end,step)\n",
        "* end is excluded\n",
        "\n",
        "\n",
        "\n"
      ],
      "metadata": {
        "id": "Ftgg5jf5OEjV"
      }
    },
    {
      "cell_type": "markdown",
      "source": [
        "the position of the last character is always len-1\n",
        "\n",
        "s[len(s)-1], s[-1]"
      ],
      "metadata": {
        "id": "5Ew0id6PZRuA"
      }
    },
    {
      "cell_type": "code",
      "source": [
        "s = 'This is a test'\n",
        "s2 = 'This is another test'\n",
        "\n",
        "print(len(s))\n",
        "print(s[8])\n",
        "print(s[5:7:1])\n",
        "\n",
        "print(s[13],s[len(s)-1], s[-1])"
      ],
      "metadata": {
        "colab": {
          "base_uri": "https://localhost:8080/"
        },
        "id": "rZWfvo2JZPgS",
        "outputId": "6f96b075-a5a9-4991-f725-a5141317860b"
      },
      "execution_count": null,
      "outputs": [
        {
          "output_type": "stream",
          "name": "stdout",
          "text": [
            "14\n",
            "a\n",
            "is\n",
            "t t t\n"
          ]
        }
      ]
    },
    {
      "cell_type": "markdown",
      "source": [
        "for indexing from the end of a sequence, you can use negative integers\n",
        "\n",
        "`s[len(s)-1]` = `s[-1]`\n",
        "\n",
        "\n",
        "slicing: default values\n",
        "\n",
        "\n",
        "*  start = 0\n",
        "*  end = len(s)\n",
        "*  step = 1\n",
        "\n"
      ],
      "metadata": {
        "id": "TnK46uwFcmvR"
      }
    },
    {
      "cell_type": "code",
      "source": [
        "s = 'This is a test'\n",
        "\n",
        "this_word = s[0:4]\n",
        "test_word = s[10:len(s)]\n",
        "\n",
        "print(this_word, test_word)"
      ],
      "metadata": {
        "colab": {
          "base_uri": "https://localhost:8080/"
        },
        "id": "x5w3LBhQc25N",
        "outputId": "f22bc79f-e101-4805-8fb0-1d3e6ed1b341"
      },
      "execution_count": null,
      "outputs": [
        {
          "output_type": "stream",
          "name": "stdout",
          "text": [
            "This test\n"
          ]
        }
      ]
    },
    {
      "cell_type": "markdown",
      "source": [
        "in the above code \"`0`\" and `len(s)` are redundant"
      ],
      "metadata": {
        "id": "2AZWeiGXedB-"
      }
    },
    {
      "cell_type": "code",
      "source": [
        "s = 'This is a test'\n",
        "s[:]"
      ],
      "metadata": {
        "colab": {
          "base_uri": "https://localhost:8080/",
          "height": 35
        },
        "id": "5UIbK9m6epoQ",
        "outputId": "53c90e1c-857e-40ab-c25b-a69db735bf26"
      },
      "execution_count": null,
      "outputs": [
        {
          "output_type": "execute_result",
          "data": {
            "text/plain": [
              "'This is a test'"
            ],
            "application/vnd.google.colaboratory.intrinsic+json": {
              "type": "string"
            }
          },
          "metadata": {},
          "execution_count": 40
        }
      ]
    },
    {
      "cell_type": "code",
      "source": [
        "s = 'This is a test'\n",
        "s[-4:]"
      ],
      "metadata": {
        "colab": {
          "base_uri": "https://localhost:8080/",
          "height": 35
        },
        "id": "QRkkD1O6fJ7-",
        "outputId": "08dffcc5-cb4c-418c-cdc6-bad5598c5d83"
      },
      "execution_count": null,
      "outputs": [
        {
          "output_type": "execute_result",
          "data": {
            "text/plain": [
              "'test'"
            ],
            "application/vnd.google.colaboratory.intrinsic+json": {
              "type": "string"
            }
          },
          "metadata": {},
          "execution_count": 56
        }
      ]
    },
    {
      "cell_type": "code",
      "source": [
        "s1 = 'Hello '\n",
        "s2 = 'there'\n",
        "\n",
        "s1+s2"
      ],
      "metadata": {
        "colab": {
          "base_uri": "https://localhost:8080/",
          "height": 35
        },
        "id": "NuVZR-sJgkIp",
        "outputId": "4d6f2120-1cc7-40f5-8fc2-a518ce98c3ce"
      },
      "execution_count": null,
      "outputs": [
        {
          "output_type": "execute_result",
          "data": {
            "text/plain": [
              "'Hello there'"
            ],
            "application/vnd.google.colaboratory.intrinsic+json": {
              "type": "string"
            }
          },
          "metadata": {},
          "execution_count": 59
        }
      ]
    },
    {
      "cell_type": "code",
      "source": [
        "s3 = 'abc'\n",
        "2 * s3"
      ],
      "metadata": {
        "colab": {
          "base_uri": "https://localhost:8080/",
          "height": 35
        },
        "id": "DQBeqqYKhbWl",
        "outputId": "bd59e6e2-de15-44bc-87bd-ba1051f67567"
      },
      "execution_count": null,
      "outputs": [
        {
          "output_type": "execute_result",
          "data": {
            "text/plain": [
              "'abcabc'"
            ],
            "application/vnd.google.colaboratory.intrinsic+json": {
              "type": "string"
            }
          },
          "metadata": {},
          "execution_count": 63
        }
      ]
    },
    {
      "cell_type": "code",
      "source": [
        "user_date = input('Enter Todays Date (MM/DD/YYYY):')\n",
        "month = user_date[:2]\n",
        "day = user_date[3:5]\n",
        "year = user_date[-4:]\n",
        "\n",
        "print(month, day, year)"
      ],
      "metadata": {
        "id": "WB8eepEI3Hgk",
        "colab": {
          "base_uri": "https://localhost:8080/"
        },
        "outputId": "a2f393b1-8b7b-42d0-80fd-72fd2907ddd2"
      },
      "execution_count": null,
      "outputs": [
        {
          "output_type": "stream",
          "name": "stdout",
          "text": [
            "Enter Todays Date (MM/DD/YYYY):02/22/2004\n",
            "02 22 2004\n"
          ]
        }
      ]
    },
    {
      "cell_type": "markdown",
      "source": [
        "### **FEB 26**\n",
        "\n",
        "Lists\n",
        "len(list) = amount of options in the list\n",
        "\n",
        "lists can be mutated, strings can not"
      ],
      "metadata": {
        "id": "KTftUI2l54cT"
      }
    },
    {
      "cell_type": "code",
      "source": [
        "L = [1, 'two', 3.14, print, [5,7,9]]\n",
        "len(L)"
      ],
      "metadata": {
        "colab": {
          "base_uri": "https://localhost:8080/"
        },
        "id": "O5iTVJOo58hv",
        "outputId": "1633ef01-4c37-4285-a803-63bc4a9e4a7c"
      },
      "execution_count": null,
      "outputs": [
        {
          "output_type": "execute_result",
          "data": {
            "text/plain": [
              "5"
            ]
          },
          "metadata": {},
          "execution_count": 11
        }
      ]
    },
    {
      "cell_type": "code",
      "source": [
        "L = [1, 'two', 3.14, print,[5,7,9]]\n",
        "\n",
        "L[3]='b'\n",
        "\n",
        "L"
      ],
      "metadata": {
        "colab": {
          "base_uri": "https://localhost:8080/"
        },
        "id": "MBwNiTUX68D7",
        "outputId": "1d051c09-7c62-402c-ef2e-d9e39d31dcdf"
      },
      "execution_count": null,
      "outputs": [
        {
          "output_type": "execute_result",
          "data": {
            "text/plain": [
              "[1, 'two', 3.14, 'b', [5, 7, 9]]"
            ]
          },
          "metadata": {},
          "execution_count": 22
        }
      ]
    },
    {
      "cell_type": "code",
      "source": [
        "for index in range(len(L)):\n",
        "  print(L[index])"
      ],
      "metadata": {
        "colab": {
          "base_uri": "https://localhost:8080/"
        },
        "id": "rZVhtPsm-bvd",
        "outputId": "755b2a33-3e28-4c46-ad61-3f40d955f7a8"
      },
      "execution_count": null,
      "outputs": [
        {
          "output_type": "stream",
          "name": "stdout",
          "text": [
            "1\n",
            "two\n",
            "3.14\n",
            "b\n",
            "[5, 7, 9]\n"
          ]
        }
      ]
    },
    {
      "cell_type": "code",
      "source": [
        "for item in L:\n",
        "  print(item)"
      ],
      "metadata": {
        "colab": {
          "base_uri": "https://localhost:8080/"
        },
        "id": "l0BcDNU-AXG_",
        "outputId": "6be31a54-f733-46fd-cdde-11637eb90b11"
      },
      "execution_count": null,
      "outputs": [
        {
          "output_type": "stream",
          "name": "stdout",
          "text": [
            "1\n",
            "two\n",
            "3.14\n",
            "b\n",
            "[5, 7, 9]\n"
          ]
        }
      ]
    },
    {
      "cell_type": "code",
      "source": [
        "L_outer = [[1,2,3],[4,5,6]]\n",
        "print(L_outer)\n",
        "P = L_outer[1]\n",
        "print(P)\n",
        "P[0]=7\n",
        "print(P)\n",
        "print(L_outer)"
      ],
      "metadata": {
        "colab": {
          "base_uri": "https://localhost:8080/"
        },
        "id": "pvkHSGGF9H6U",
        "outputId": "af223f5e-cb17-477e-a925-9992af646a2a"
      },
      "execution_count": null,
      "outputs": [
        {
          "output_type": "stream",
          "name": "stdout",
          "text": [
            "[[1, 2, 3], [4, 5, 6]]\n",
            "[4, 5, 6]\n",
            "[7, 5, 6]\n",
            "[[1, 2, 3], [7, 5, 6]]\n"
          ]
        }
      ]
    },
    {
      "cell_type": "markdown",
      "source": [],
      "metadata": {
        "id": "rFseOxVJhB65"
      }
    },
    {
      "cell_type": "code",
      "source": [
        "l1 = [1,2,3,4]\n",
        "l2 = [1,2,5,6]\n",
        "\n",
        "for item in l1[:]:\n",
        "  if item in l2:\n",
        "    l1.remove(item)\n",
        "l1"
      ],
      "metadata": {
        "colab": {
          "base_uri": "https://localhost:8080/"
        },
        "id": "zNqFnKmthBdQ",
        "outputId": "0a0ac163-6320-4225-bd76-cdeacbb2b5a4"
      },
      "execution_count": null,
      "outputs": [
        {
          "output_type": "execute_result",
          "data": {
            "text/plain": [
              "[3, 4]"
            ]
          },
          "metadata": {},
          "execution_count": 1
        }
      ]
    },
    {
      "cell_type": "code",
      "source": [
        "t = (1,'two',3.0)\n",
        "len(t)"
      ],
      "metadata": {
        "colab": {
          "base_uri": "https://localhost:8080/"
        },
        "id": "8o3LJEnIkegr",
        "outputId": "2eec1440-3069-42e0-e3bd-a77e2e01f7c7"
      },
      "execution_count": null,
      "outputs": [
        {
          "output_type": "execute_result",
          "data": {
            "text/plain": [
              "3"
            ]
          },
          "metadata": {},
          "execution_count": 2
        }
      ]
    },
    {
      "cell_type": "code",
      "source": [
        "t+ t[:2]"
      ],
      "metadata": {
        "colab": {
          "base_uri": "https://localhost:8080/"
        },
        "id": "TJuwxbBLkoWv",
        "outputId": "b45b4d88-041a-4427-a783-f41418ca592c"
      },
      "execution_count": null,
      "outputs": [
        {
          "output_type": "execute_result",
          "data": {
            "text/plain": [
              "(1, 'two', 3.0, 1, 'two')"
            ]
          },
          "metadata": {},
          "execution_count": 6
        }
      ]
    },
    {
      "cell_type": "markdown",
      "source": [
        "## Dictionary"
      ],
      "metadata": {
        "id": "lOeBJscfmvPn"
      }
    },
    {
      "cell_type": "code",
      "source": [
        "grades = {\n",
        "    'Alice': 91,\n",
        "    'Bob': 88,\n",
        "    'Tracy': 93,\n",
        "    'Erik': 90\n",
        "}"
      ],
      "metadata": {
        "id": "LkDnVd9kmu7S"
      },
      "execution_count": null,
      "outputs": []
    },
    {
      "cell_type": "code",
      "source": [
        "grades['Bob']"
      ],
      "metadata": {
        "colab": {
          "base_uri": "https://localhost:8080/"
        },
        "id": "7sPj4D6KnQ4u",
        "outputId": "6d39b04b-ff17-4cb1-e047-4f78d62bd2a4"
      },
      "execution_count": null,
      "outputs": [
        {
          "output_type": "execute_result",
          "data": {
            "text/plain": [
              "88"
            ]
          },
          "metadata": {},
          "execution_count": 17
        }
      ]
    },
    {
      "cell_type": "code",
      "source": [
        "grades['Meagan']=95"
      ],
      "metadata": {
        "id": "bdQB1R_nnpKW"
      },
      "execution_count": null,
      "outputs": []
    },
    {
      "cell_type": "code",
      "source": [
        "print(grades)"
      ],
      "metadata": {
        "colab": {
          "base_uri": "https://localhost:8080/"
        },
        "id": "jhqQQfMonvd8",
        "outputId": "f60f851e-b48e-471e-e317-134ff8eb00a8"
      },
      "execution_count": null,
      "outputs": [
        {
          "output_type": "stream",
          "name": "stdout",
          "text": [
            "{'Alice': 91, 'Bob': 88, 'Tracy': 93, 'Erik': 90, 'Meagan': 95}\n"
          ]
        }
      ]
    },
    {
      "cell_type": "code",
      "source": [
        "grades['Tracy']=96\n",
        "grades"
      ],
      "metadata": {
        "colab": {
          "base_uri": "https://localhost:8080/"
        },
        "id": "sQ7CnkOioSU-",
        "outputId": "1bbf8968-3370-404a-eb50-449445909cdb"
      },
      "execution_count": null,
      "outputs": [
        {
          "output_type": "execute_result",
          "data": {
            "text/plain": [
              "{'Alice': 91, 'Bob': 88, 'Tracy': 96, 'Erik': 90, 'Meagan': 95}"
            ]
          },
          "metadata": {},
          "execution_count": 21
        }
      ]
    },
    {
      "cell_type": "code",
      "source": [
        "months = {1: \"January\", 2: \"February\", 3: \"March\"}\n",
        "\n",
        "print(f'The first month in a year is {months[1]}')"
      ],
      "metadata": {
        "colab": {
          "base_uri": "https://localhost:8080/"
        },
        "id": "9QVsugG9BPNX",
        "outputId": "3fdb9c43-3846-4c27-b0bf-7a50e8f791c5"
      },
      "execution_count": null,
      "outputs": [
        {
          "output_type": "stream",
          "name": "stdout",
          "text": [
            "The first month in a year is January\n"
          ]
        }
      ]
    },
    {
      "cell_type": "code",
      "source": [
        "months ={}\n",
        "\n",
        "numbers = [1,2,3,4,5,6,7,8,9,10,11,12]\n",
        "names = [\"Jan\",\"Feb\",\"Mar\",\"Apr\",\"May\",\"Jun\",\"Jul\",\"Aug\",\"Sep\",\"Oct\",\"Nov\",\"Dec\"]"
      ],
      "metadata": {
        "id": "UszIwrStCIQ4"
      },
      "execution_count": null,
      "outputs": []
    },
    {
      "cell_type": "code",
      "source": [
        "for numbers,names in months:\n",
        "  numbers(1)== name(Jan)\n"
      ],
      "metadata": {
        "colab": {
          "base_uri": "https://localhost:8080/",
          "height": 156
        },
        "id": "LVhk8zuRC0tr",
        "outputId": "73020c81-85c6-4ecf-bb43-23cd472dca56"
      },
      "execution_count": null,
      "outputs": [
        {
          "output_type": "error",
          "ename": "TypeError",
          "evalue": "cannot unpack non-iterable int object",
          "traceback": [
            "\u001b[0;31m---------------------------------------------------------------------------\u001b[0m",
            "\u001b[0;31mTypeError\u001b[0m                                 Traceback (most recent call last)",
            "\u001b[0;32m<ipython-input-18-95001fa13890>\u001b[0m in \u001b[0;36m<cell line: 1>\u001b[0;34m()\u001b[0m\n\u001b[0;32m----> 1\u001b[0;31m \u001b[0;32mfor\u001b[0m \u001b[0mnumbers\u001b[0m\u001b[0;34m,\u001b[0m\u001b[0mnames\u001b[0m \u001b[0;32min\u001b[0m \u001b[0mmonths\u001b[0m\u001b[0;34m:\u001b[0m\u001b[0;34m\u001b[0m\u001b[0;34m\u001b[0m\u001b[0m\n\u001b[0m\u001b[1;32m      2\u001b[0m   \u001b[0mnumbers\u001b[0m\u001b[0;34m(\u001b[0m\u001b[0;36m1\u001b[0m\u001b[0;34m)\u001b[0m\u001b[0;34m==\u001b[0m \u001b[0mname\u001b[0m\u001b[0;34m(\u001b[0m\u001b[0mJan\u001b[0m\u001b[0;34m)\u001b[0m\u001b[0;34m\u001b[0m\u001b[0;34m\u001b[0m\u001b[0m\n",
            "\u001b[0;31mTypeError\u001b[0m: cannot unpack non-iterable int object"
          ]
        }
      ]
    },
    {
      "cell_type": "code",
      "source": [
        "months ={}\n",
        "\n",
        "numbers = [1,2,3,4,5,6,7,8,9,10,11,12]\n",
        "names = [\"Jan\",\"Feb\",\"Mar\",\"Apr\",\"May\",\"Jun\",\"Jul\",\"Aug\",\"Sep\",\"Oct\",\"Nov\",\"Dec\"]\n",
        "\n",
        "for numbers in range(1,13):\n",
        "  months[numbers] = names[1,13]\n",
        "  print(months)"
      ],
      "metadata": {
        "colab": {
          "base_uri": "https://localhost:8080/",
          "height": 190
        },
        "id": "BozmgTEwEumd",
        "outputId": "b63173cf-8e14-4c2b-aa4f-9589c1c82f5e"
      },
      "execution_count": null,
      "outputs": [
        {
          "output_type": "error",
          "ename": "TypeError",
          "evalue": "list indices must be integers or slices, not tuple",
          "traceback": [
            "\u001b[0;31m---------------------------------------------------------------------------\u001b[0m",
            "\u001b[0;31mTypeError\u001b[0m                                 Traceback (most recent call last)",
            "\u001b[0;32m<ipython-input-76-b85346ea6179>\u001b[0m in \u001b[0;36m<cell line: 6>\u001b[0;34m()\u001b[0m\n\u001b[1;32m      5\u001b[0m \u001b[0;34m\u001b[0m\u001b[0m\n\u001b[1;32m      6\u001b[0m \u001b[0;32mfor\u001b[0m \u001b[0mnumbers\u001b[0m \u001b[0;32min\u001b[0m \u001b[0mrange\u001b[0m\u001b[0;34m(\u001b[0m\u001b[0;36m1\u001b[0m\u001b[0;34m,\u001b[0m\u001b[0;36m13\u001b[0m\u001b[0;34m)\u001b[0m\u001b[0;34m:\u001b[0m\u001b[0;34m\u001b[0m\u001b[0;34m\u001b[0m\u001b[0m\n\u001b[0;32m----> 7\u001b[0;31m   \u001b[0mmonths\u001b[0m\u001b[0;34m[\u001b[0m\u001b[0mnumbers\u001b[0m\u001b[0;34m]\u001b[0m \u001b[0;34m=\u001b[0m \u001b[0mnames\u001b[0m\u001b[0;34m[\u001b[0m\u001b[0;36m1\u001b[0m\u001b[0;34m,\u001b[0m\u001b[0;36m13\u001b[0m\u001b[0;34m]\u001b[0m\u001b[0;34m\u001b[0m\u001b[0;34m\u001b[0m\u001b[0m\n\u001b[0m\u001b[1;32m      8\u001b[0m   \u001b[0mprint\u001b[0m\u001b[0;34m(\u001b[0m\u001b[0mmonths\u001b[0m\u001b[0;34m)\u001b[0m\u001b[0;34m\u001b[0m\u001b[0;34m\u001b[0m\u001b[0m\n",
            "\u001b[0;31mTypeError\u001b[0m: list indices must be integers or slices, not tuple"
          ]
        }
      ]
    },
    {
      "cell_type": "code",
      "source": [
        "months ={}\n",
        "numbers = [1,2,3,4,5,6,7,8,9,10,11,12]\n",
        "names = [\"Jan\",\"Feb\",\"Mar\",\"Apr\",\"May\",\"Jun\",\"Jul\",\"Aug\",\"Sep\",\"Oct\",\"Nov\",\"Dec\"]\n",
        "\n",
        "for num in range(1,13):\n",
        "  months[num] = names[num-1]\n",
        "\n",
        "print(months)"
      ],
      "metadata": {
        "colab": {
          "base_uri": "https://localhost:8080/"
        },
        "id": "YhnCJ0TaHWz_",
        "outputId": "3b089b4f-0116-4a91-bf45-3d129cd29a20"
      },
      "execution_count": null,
      "outputs": [
        {
          "output_type": "stream",
          "name": "stdout",
          "text": [
            "{1: 'Jan', 2: 'Feb', 3: 'Mar', 4: 'Apr', 5: 'May', 6: 'Jun', 7: 'Jul', 8: 'Aug', 9: 'Sep', 10: 'Oct', 11: 'Nov', 12: 'Dec'}\n"
          ]
        }
      ]
    },
    {
      "cell_type": "markdown",
      "source": [
        "### March 18"
      ],
      "metadata": {
        "id": "moPxM7u10aE0"
      }
    },
    {
      "cell_type": "code",
      "source": [
        "aList = []\n",
        "\n",
        "for i in range(10):\n",
        "  aList.append(i)\n",
        "  if i%2 == 0:\n",
        "    aList.pop()\n",
        "\n",
        "  print(aList)"
      ],
      "metadata": {
        "colab": {
          "base_uri": "https://localhost:8080/"
        },
        "id": "vo-OfsNd10-u",
        "outputId": "8c2ec292-58b8-47e7-baf4-862622c5b5b6"
      },
      "execution_count": null,
      "outputs": [
        {
          "output_type": "stream",
          "name": "stdout",
          "text": [
            "[]\n",
            "[1]\n",
            "[1]\n",
            "[1, 3]\n",
            "[1, 3]\n",
            "[1, 3, 5]\n",
            "[1, 3, 5]\n",
            "[1, 3, 5, 7]\n",
            "[1, 3, 5, 7]\n",
            "[1, 3, 5, 7, 9]\n"
          ]
        }
      ]
    },
    {
      "cell_type": "code",
      "source": [
        "def greeting(n):\n",
        "  print(f'Hello, {n}!')\n",
        "\n",
        "name = input ('Enter Name: ')\n",
        "greeting(name)"
      ],
      "metadata": {
        "colab": {
          "base_uri": "https://localhost:8080/"
        },
        "id": "XHlfr7MA3NB7",
        "outputId": "77604feb-1d9f-42aa-8ba7-665166c29016"
      },
      "execution_count": null,
      "outputs": [
        {
          "output_type": "stream",
          "name": "stdout",
          "text": [
            "Enter Name: Sean\n",
            "Hello, Sean!\n"
          ]
        }
      ]
    },
    {
      "cell_type": "markdown",
      "source": [
        "### March 20"
      ],
      "metadata": {
        "id": "qgH0PvM_I533"
      }
    },
    {
      "cell_type": "code",
      "source": [
        "def add_num(a, b):\n",
        "   c = a + b\n",
        "   return c\n",
        "\n",
        "x = 5\n",
        "y = 6\n",
        "c = add_num(x, y)\n",
        "print(c)"
      ],
      "metadata": {
        "colab": {
          "base_uri": "https://localhost:8080/"
        },
        "id": "GMgOHufnJCxL",
        "outputId": "e78e6275-d820-4394-ec17-57074490e60d"
      },
      "execution_count": null,
      "outputs": [
        {
          "output_type": "stream",
          "name": "stdout",
          "text": [
            "11\n"
          ]
        }
      ]
    },
    {
      "cell_type": "code",
      "source": [
        "def add_num(a, b=5):\n",
        "   c = a + b\n",
        "   return c\n",
        "\n",
        "x = 5\n",
        "y = 6\n",
        "c = add_num(x)\n",
        "print(c)"
      ],
      "metadata": {
        "id": "rWTMoMAOS1Ep",
        "outputId": "d02852de-3766-465a-ca94-1f9ea88ae51c",
        "colab": {
          "base_uri": "https://localhost:8080/"
        }
      },
      "execution_count": null,
      "outputs": [
        {
          "output_type": "stream",
          "name": "stdout",
          "text": [
            "10\n"
          ]
        }
      ]
    },
    {
      "cell_type": "markdown",
      "source": [
        "### March 25\n"
      ],
      "metadata": {
        "id": "M1ftuJ1638fk"
      }
    },
    {
      "cell_type": "code",
      "source": [
        "def example():\n",
        "  print('This is an example')\n",
        "\n",
        "name = example()\n",
        "print(name)"
      ],
      "metadata": {
        "colab": {
          "base_uri": "https://localhost:8080/"
        },
        "id": "EelmPyox4Aam",
        "outputId": "d4657f58-f6e8-4b80-962b-f78963a70dba"
      },
      "execution_count": null,
      "outputs": [
        {
          "output_type": "stream",
          "name": "stdout",
          "text": [
            "This is an example\n",
            "None\n"
          ]
        }
      ]
    },
    {
      "cell_type": "markdown",
      "source": [
        "Global Scope vs Local Scope\n"
      ],
      "metadata": {
        "id": "kE3v1T9u-K4q"
      }
    },
    {
      "cell_type": "markdown",
      "source": [
        "###April 5"
      ],
      "metadata": {
        "id": "YzNYxQuSPHyc"
      }
    },
    {
      "cell_type": "code",
      "source": [
        "def quickSort(alist):\n",
        "  if len(alist) < 2:\n",
        "    return alist\n",
        "  else:\n",
        "    less, equal, larger = [],[],[]\n",
        "\n",
        "    pivotIndex = len(alist) // 2\n",
        "\n",
        "    for item in alist:\n",
        "      if item < alist[pivotIndex]:\n",
        "        less.append(item)\n",
        "      elif item == alist[pivotIndex]:\n",
        "        equal.append(item)\n",
        "      else:\n",
        "        larger.append(item)\n",
        "\n",
        "    return quickSort(less) + equal + quickSort(larger)\n",
        "\n",
        "quickSort([8,2,5,3,6,1])\n"
      ],
      "metadata": {
        "id": "HAZY1-OVWNd8",
        "colab": {
          "base_uri": "https://localhost:8080/"
        },
        "outputId": "88e4a3dc-1eb4-4859-c063-11dc00fc9d0c"
      },
      "execution_count": null,
      "outputs": [
        {
          "output_type": "execute_result",
          "data": {
            "text/plain": [
              "[1, 2, 3, 5, 6, 8]"
            ]
          },
          "metadata": {},
          "execution_count": 9
        }
      ]
    },
    {
      "cell_type": "markdown",
      "source": [
        "### April 8\n",
        "*Errors and Except clauses*"
      ],
      "metadata": {
        "id": "-9d949Sb_DV8"
      }
    },
    {
      "cell_type": "markdown",
      "source": [],
      "metadata": {
        "id": "4l5GeGnyCRje"
      }
    },
    {
      "cell_type": "code",
      "source": [
        "try:\n",
        "  a = float(input('Enter a numerator: '))\n",
        "  b = float(input(' Enter a demoniator: '))\n",
        "  print(a/b)\n",
        "  print('Division complete!')\n",
        "except ZeroDivisionError:\n",
        "  print('Division by zero is not allowed!')\n",
        "except ValueError:\n",
        "  print('Input cannot be casted as float!')\n",
        "except TypeError:\n",
        "  print('Invalid input!')\n",
        "except:\n",
        "  print('Unknown Error!')\n",
        "\n",
        "print('Program ends.')"
      ],
      "metadata": {
        "colab": {
          "base_uri": "https://localhost:8080/"
        },
        "id": "PG7UsV5A_Gl_",
        "outputId": "ae17f659-877c-493e-cd7d-0f8bc9db5650"
      },
      "execution_count": null,
      "outputs": [
        {
          "output_type": "stream",
          "name": "stdout",
          "text": [
            "Enter a numerator: 2.1\n",
            " Enter a demoniator: 00000.0\n",
            "Division by zero is not allowed!\n",
            "Program ends.\n"
          ]
        }
      ]
    },
    {
      "cell_type": "markdown",
      "source": [
        "###Object Oriented Programming (OOP)\n",
        "\n",
        "* Data = Attributes\n",
        "* Behavior = Methods\n",
        "    - special methods: __ name __\n",
        "\n"
      ],
      "metadata": {
        "id": "148J0_s2CYTw"
      }
    },
    {
      "cell_type": "code",
      "source": [
        "class Animal:\n",
        "  # this is the constructor method;\n",
        "  # used to initialize the behavior (aka attributes) for each instance (aka object) of the class\n",
        "  def __init__(nerv_sys, resp_sys, life_exp, gender):\n",
        "    self.nerv_sys = nerv_sys # this is an attributes initialization\n",
        "    self.resp_sys = resp_sys\n",
        "    self.life_exp = life_exp\n",
        "    self.gender = gender\n"
      ],
      "metadata": {
        "id": "bNlef_MqG5S0"
      },
      "execution_count": null,
      "outputs": []
    }
  ]
}