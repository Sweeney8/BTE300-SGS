{
  "nbformat": 4,
  "nbformat_minor": 0,
  "metadata": {
    "colab": {
      "provenance": [],
      "authorship_tag": "ABX9TyP+G5uZL1Q0rOLgiFGzr6hW",
      "include_colab_link": true
    },
    "kernelspec": {
      "name": "python3",
      "display_name": "Python 3"
    },
    "language_info": {
      "name": "python"
    }
  },
  "cells": [
    {
      "cell_type": "markdown",
      "metadata": {
        "id": "view-in-github",
        "colab_type": "text"
      },
      "source": [
        "<a href=\"https://colab.research.google.com/github/Sweeney8/BTE320-SGS/blob/main/While_List_1.ipynb\" target=\"_parent\"><img src=\"https://colab.research.google.com/assets/colab-badge.svg\" alt=\"Open In Colab\"/></a>"
      ]
    },
    {
      "cell_type": "code",
      "execution_count": null,
      "metadata": {
        "id": "Xng8xRjf8MYm"
      },
      "outputs": [],
      "source": [
        "down=100000\n",
        "n_months=0\n",
        "deposit=10000\n",
        "amount=5000\n",
        "while deposit<down:\n",
        "  deposit=deposit+amount\n",
        "  n_months=n_months+1\n",
        "  print(n_months)\n"
      ]
    }
  ]
}