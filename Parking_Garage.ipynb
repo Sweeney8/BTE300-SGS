{
  "nbformat": 4,
  "nbformat_minor": 0,
  "metadata": {
    "colab": {
      "provenance": [],
      "authorship_tag": "ABX9TyOtmDEIq41l/B5cmayrVBD2",
      "include_colab_link": true
    },
    "kernelspec": {
      "name": "python3",
      "display_name": "Python 3"
    },
    "language_info": {
      "name": "python"
    }
  },
  "cells": [
    {
      "cell_type": "markdown",
      "metadata": {
        "id": "view-in-github",
        "colab_type": "text"
      },
      "source": [
        "<a href=\"https://colab.research.google.com/github/Sweeney8/BTE320-SGS/blob/main/Parking_Garage.ipynb\" target=\"_parent\"><img src=\"https://colab.research.google.com/assets/colab-badge.svg\" alt=\"Open In Colab\"/></a>"
      ]
    },
    {
      "cell_type": "code",
      "execution_count": null,
      "metadata": {
        "id": "_PGGc-fJ7z1U"
      },
      "outputs": [],
      "source": [
        "c = 5\n",
        "fee = c+p*2.5\n",
        "for p in range(1,9):\n",
        "  fee = c+p*2.5\n",
        "  if 10 < fee < 20:\n",
        "    print(p, fee)\n",
        "  elif fee <= 10:\n",
        "    print(p, 10)\n",
        "  else:\n",
        "    print(p, 20.0)"
      ]
    }
  ]
}