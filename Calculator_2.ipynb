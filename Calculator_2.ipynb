{
  "nbformat": 4,
  "nbformat_minor": 0,
  "metadata": {
    "colab": {
      "provenance": [],
      "authorship_tag": "ABX9TyMzo6ogStZPaGchVpwiAakq",
      "include_colab_link": true
    },
    "kernelspec": {
      "name": "python3",
      "display_name": "Python 3"
    },
    "language_info": {
      "name": "python"
    }
  },
  "cells": [
    {
      "cell_type": "markdown",
      "metadata": {
        "id": "view-in-github",
        "colab_type": "text"
      },
      "source": [
        "<a href=\"https://colab.research.google.com/github/Sweeney8/BTE320-SGS/blob/main/Calculator_2.ipynb\" target=\"_parent\"><img src=\"https://colab.research.google.com/assets/colab-badge.svg\" alt=\"Open In Colab\"/></a>"
      ]
    },
    {
      "cell_type": "code",
      "execution_count": null,
      "metadata": {
        "id": "W023dya5MJWb"
      },
      "outputs": [],
      "source": [
        "while True:\n",
        "  num1 = float(input('Enter first value:'))\n",
        "  num2 = float(input('Enter second value:'))\n",
        "  operator = (input('Enter the operator:'))\n",
        "\n",
        "  if operator == 'break':\n",
        "    print('Goodbye!')\n",
        "    break\n",
        "\n",
        "  if operator == \"+\":\n",
        "    answer = num1 + num2\n",
        "  elif operator == \"-\":\n",
        "    answer = num1 - num2\n",
        "  elif operator == \"*\":\n",
        "    answer = num1 * num2\n",
        "  elif operator == \"/\":\n",
        "    answer = num1 / num2\n",
        "  elif operator == \"//\":\n",
        "    answer = num1 / num2\n",
        "  elif operator == \"%\":\n",
        "    answer = num1 % num2\n",
        "  elif operator == \"**\":\n",
        "    answer = num1 ** num2\n",
        "  else:\n",
        "    print('invalid operator:', operator)\n",
        "    continue\n",
        "  print('Result:', answer)"
      ]
    }
  ]
}