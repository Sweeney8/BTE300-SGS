{
  "nbformat": 4,
  "nbformat_minor": 0,
  "metadata": {
    "colab": {
      "provenance": [],
      "authorship_tag": "ABX9TyNjaXOgxnUkzM7ESHIiyLKt",
      "include_colab_link": true
    },
    "kernelspec": {
      "name": "python3",
      "display_name": "Python 3"
    },
    "language_info": {
      "name": "python"
    }
  },
  "cells": [
    {
      "cell_type": "markdown",
      "metadata": {
        "id": "view-in-github",
        "colab_type": "text"
      },
      "source": [
        "<a href=\"https://colab.research.google.com/github/Sweeney8/BTE320-SGS/blob/main/Rock_Paper_Scissors.ipynb\" target=\"_parent\"><img src=\"https://colab.research.google.com/assets/colab-badge.svg\" alt=\"Open In Colab\"/></a>"
      ]
    },
    {
      "cell_type": "code",
      "execution_count": null,
      "metadata": {
        "id": "zAE4bgLh6JRa"
      },
      "outputs": [],
      "source": [
        "import random\n",
        "user_input=input(\"do you want to play the game?,(Yes,No)\")\n",
        "while user_input==\"yes\":\n",
        "  user_input = input('rock, paper, scissors; ')\n",
        "  pc_choice = random.choice(['rock','paper','scissors'])\n",
        "\n",
        "  if user_input == pc_choice:\n",
        "    print(f'computer choice; {pc_choice} --> Tie Game')\n",
        "\n",
        "  elif user_input == 'paper' and pc_choice == 'rock' or user_input == 'scissors' and pc_choice == 'paper' or user_input == 'rock' and pc_choice == 'scissors':\n",
        "    print(f'computer choice; {pc_choice} --> You Win!')\n",
        "\n",
        "  else:\n",
        "    print(f'computer choice; {pc_choice} --> You Lose')\n",
        "\n",
        "  user_input=input(\"do you want to play the game?,(Yes,No)\")\n",
        "\n"
      ]
    }
  ]
}