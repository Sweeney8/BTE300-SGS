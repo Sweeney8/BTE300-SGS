{
  "nbformat": 4,
  "nbformat_minor": 0,
  "metadata": {
    "colab": {
      "provenance": [],
      "authorship_tag": "ABX9TyPWyIDpa37sDX7PvIzByrC+",
      "include_colab_link": true
    },
    "kernelspec": {
      "name": "python3",
      "display_name": "Python 3"
    },
    "language_info": {
      "name": "python"
    }
  },
  "cells": [
    {
      "cell_type": "markdown",
      "metadata": {
        "id": "view-in-github",
        "colab_type": "text"
      },
      "source": [
        "<a href=\"https://colab.research.google.com/github/Sweeney8/BTE320-SGS/blob/main/List_In_class_assignment.ipynb\" target=\"_parent\"><img src=\"https://colab.research.google.com/assets/colab-badge.svg\" alt=\"Open In Colab\"/></a>"
      ]
    },
    {
      "cell_type": "code",
      "execution_count": null,
      "metadata": {
        "id": "VX6MpZ1v4w7d"
      },
      "outputs": [],
      "source": [
        "L = []\n",
        "number = int(input('Enter a value:'))\n",
        "while number !=0:\n",
        "  L.append(number)\n",
        "  print(L)\n",
        "  number = int(input('Enter a value:'))\n",
        "if number == 0:\n",
        "  print(L)"
      ]
    }
  ]
}