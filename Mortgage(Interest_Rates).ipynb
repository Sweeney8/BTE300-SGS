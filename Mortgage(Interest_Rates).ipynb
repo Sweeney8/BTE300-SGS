{
  "nbformat": 4,
  "nbformat_minor": 0,
  "metadata": {
    "colab": {
      "provenance": [],
      "authorship_tag": "ABX9TyPMigy3vpQZ3OUQWx7ZmTAB",
      "include_colab_link": true
    },
    "kernelspec": {
      "name": "python3",
      "display_name": "Python 3"
    },
    "language_info": {
      "name": "python"
    }
  },
  "cells": [
    {
      "cell_type": "markdown",
      "metadata": {
        "id": "view-in-github",
        "colab_type": "text"
      },
      "source": [
        "<a href=\"https://colab.research.google.com/github/Sweeney8/BTE320-SGS/blob/main/Mortgage(Interest_Rates).ipynb\" target=\"_parent\"><img src=\"https://colab.research.google.com/assets/colab-badge.svg\" alt=\"Open In Colab\"/></a>"
      ]
    },
    {
      "cell_type": "code",
      "execution_count": null,
      "metadata": {
        "id": "38zcW-d53ofQ"
      },
      "outputs": [],
      "source": [
        "class Mortgage\"\n",
        "  def __init__(self, loan)"
      ]
    },
    {
      "cell_type": "code",
      "source": [
        "class Mortgage:\n",
        "  def _init_(self, loan, term, interest) :\n",
        "      self. loan = loan\n",
        "      self.term = term\n",
        "      self. interest = interest\n",
        "  def getinterest (self):\n",
        "    return self. interest\n",
        "  def set_interest (self, newInterest) :\n",
        "    if newInterest >= 0:\n",
        "      self. interest = newInterest\n",
        "    else:\n",
        "      print ('Please enter a non-negative')\n",
        "  def payment (self) :\n",
        "    r = self. interest/100\n",
        "    n = self. term * 12\n",
        "    return self. loan * (r * (1+r) ** n)/((1+r)** n - 1)"
      ],
      "metadata": {
        "id": "EMdJG-km30Gw"
      },
      "execution_count": 9,
      "outputs": []
    },
    {
      "cell_type": "code",
      "source": [
        "m = Mortgage (100000, 30, 6)"
      ],
      "metadata": {
        "id": "Pq4ME1Q74SeM"
      },
      "execution_count": 7,
      "outputs": []
    },
    {
      "cell_type": "code",
      "source": [
        "m.payment()"
      ],
      "metadata": {
        "colab": {
          "base_uri": "https://localhost:8080/"
        },
        "id": "R0NaIqMD4WnE",
        "outputId": "fb2c7052-4163-49dd-f625-758e570741ef"
      },
      "execution_count": 5,
      "outputs": [
        {
          "output_type": "execute_result",
          "data": {
            "text/plain": [
              "6000.000004656286"
            ]
          },
          "metadata": {},
          "execution_count": 5
        }
      ]
    },
    {
      "cell_type": "code",
      "source": [
        "m.interest"
      ],
      "metadata": {
        "colab": {
          "base_uri": "https://localhost:8080/"
        },
        "id": "1RI8hDrx4Z4-",
        "outputId": "d2a0a099-8af3-4ea4-a23b-c2ab55ceea46"
      },
      "execution_count": 12,
      "outputs": [
        {
          "output_type": "execute_result",
          "data": {
            "text/plain": [
              "6"
            ]
          },
          "metadata": {},
          "execution_count": 12
        }
      ]
    }
  ]
}